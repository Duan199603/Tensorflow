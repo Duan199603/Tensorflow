{
 "cells": [
  {
   "cell_type": "markdown",
   "metadata": {},
   "source": [
    "# 1. Recurrent Neuron\n",
    "##### Sends output back to itself"
   ]
  },
  {
   "cell_type": "markdown",
   "metadata": {},
   "source": [
    "# 2. Simple RNN with TensorFlow\n",
    "### *Input formats of data"
   ]
  },
  {
   "cell_type": "code",
   "execution_count": 1,
   "metadata": {
    "collapsed": true
   },
   "outputs": [],
   "source": [
    "import numpy as np\n",
    "import tensorflow as tf\n",
    "import matplotlib.pyplot as plt\n",
    "% matplotlib inline"
   ]
  },
  {
   "cell_type": "code",
   "execution_count": 2,
   "metadata": {
    "collapsed": true
   },
   "outputs": [],
   "source": [
    "# constants\n",
    "num_inputs = 2\n",
    "num_neurons = 3"
   ]
  },
  {
   "cell_type": "code",
   "execution_count": 3,
   "metadata": {
    "collapsed": true
   },
   "outputs": [],
   "source": [
    "#  placeholder\n",
    "x0 = tf.placeholder(tf.float32,[None,num_inputs])\n",
    "x1 = tf.placeholder(tf.float32,[None,num_inputs])"
   ]
  },
  {
   "cell_type": "code",
   "execution_count": 4,
   "metadata": {},
   "outputs": [],
   "source": [
    "# variable\n",
    "Wx = tf.Variable(tf.random_normal(shape = [num_inputs,num_neurons]))\n",
    "Wy = tf.Variable(tf.random_normal(shape = [num_neurons,num_neurons]))\n",
    "b = tf.Variable(tf.zeros([1,num_neurons]))"
   ]
  },
  {
   "cell_type": "code",
   "execution_count": 5,
   "metadata": {
    "collapsed": true
   },
   "outputs": [],
   "source": [
    "# Graphs\n",
    "y0 = tf.tanh(tf.matmul(x0,Wx)+b)\n",
    "y1 = tf.tanh(tf.matmul(y0,Wy)+tf.matmul(x1,Wx)+b)\n",
    "init = tf.global_variables_initializer()"
   ]
  },
  {
   "cell_type": "code",
   "execution_count": 6,
   "metadata": {
    "collapsed": true
   },
   "outputs": [],
   "source": [
    "# Create Data\n",
    "x0_batch = np.array([[0,1],[2,3],[4,5]])\n",
    "x1_batch = np.array([[100,101],[102,103],[104,105]])"
   ]
  },
  {
   "cell_type": "code",
   "execution_count": 7,
   "metadata": {},
   "outputs": [
    {
     "name": "stdout",
     "output_type": "stream",
     "text": [
      "y0:[[ 0.04332771 -0.06018258 -0.87746161]\n",
      " [ 0.95997131 -0.62681657 -0.99999815]\n",
      " [ 0.99909067 -0.88792974 -1.        ]]\n",
      "\n",
      "y1:[[ 1. -1. -1.]\n",
      " [ 1. -1. -1.]\n",
      " [ 1. -1. -1.]]\n",
      "\n",
      "y0:[[ 0.04332771 -0.06018258 -0.87746161]\n",
      " [ 0.95997131 -0.62681657 -0.99999815]\n",
      " [ 0.99909067 -0.88792974 -1.        ]]\n",
      "\n",
      "y1:[[ 1. -1. -1.]\n",
      " [ 1. -1. -1.]\n",
      " [ 1. -1. -1.]]\n",
      "\n",
      "y0:[[ 0.04332771 -0.06018258 -0.87746161]\n",
      " [ 0.95997131 -0.62681657 -0.99999815]\n",
      " [ 0.99909067 -0.88792974 -1.        ]]\n",
      "\n",
      "y1:[[ 1. -1. -1.]\n",
      " [ 1. -1. -1.]\n",
      " [ 1. -1. -1.]]\n",
      "\n",
      "y0:[[ 0.04332771 -0.06018258 -0.87746161]\n",
      " [ 0.95997131 -0.62681657 -0.99999815]\n",
      " [ 0.99909067 -0.88792974 -1.        ]]\n",
      "\n",
      "y1:[[ 1. -1. -1.]\n",
      " [ 1. -1. -1.]\n",
      " [ 1. -1. -1.]]\n",
      "\n",
      "y0:[[ 0.04332771 -0.06018258 -0.87746161]\n",
      " [ 0.95997131 -0.62681657 -0.99999815]\n",
      " [ 0.99909067 -0.88792974 -1.        ]]\n",
      "\n",
      "y1:[[ 1. -1. -1.]\n",
      " [ 1. -1. -1.]\n",
      " [ 1. -1. -1.]]\n",
      "\n",
      "y0:[[ 0.04332771 -0.06018258 -0.87746161]\n",
      " [ 0.95997131 -0.62681657 -0.99999815]\n",
      " [ 0.99909067 -0.88792974 -1.        ]]\n",
      "\n",
      "y1:[[ 1. -1. -1.]\n",
      " [ 1. -1. -1.]\n",
      " [ 1. -1. -1.]]\n",
      "\n",
      "y0:[[ 0.04332771 -0.06018258 -0.87746161]\n",
      " [ 0.95997131 -0.62681657 -0.99999815]\n",
      " [ 0.99909067 -0.88792974 -1.        ]]\n",
      "\n",
      "y1:[[ 1. -1. -1.]\n",
      " [ 1. -1. -1.]\n",
      " [ 1. -1. -1.]]\n",
      "\n",
      "y0:[[ 0.04332771 -0.06018258 -0.87746161]\n",
      " [ 0.95997131 -0.62681657 -0.99999815]\n",
      " [ 0.99909067 -0.88792974 -1.        ]]\n",
      "\n",
      "y1:[[ 1. -1. -1.]\n",
      " [ 1. -1. -1.]\n",
      " [ 1. -1. -1.]]\n",
      "\n",
      "y0:[[ 0.04332771 -0.06018258 -0.87746161]\n",
      " [ 0.95997131 -0.62681657 -0.99999815]\n",
      " [ 0.99909067 -0.88792974 -1.        ]]\n",
      "\n",
      "y1:[[ 1. -1. -1.]\n",
      " [ 1. -1. -1.]\n",
      " [ 1. -1. -1.]]\n",
      "\n",
      "y0:[[ 0.04332771 -0.06018258 -0.87746161]\n",
      " [ 0.95997131 -0.62681657 -0.99999815]\n",
      " [ 0.99909067 -0.88792974 -1.        ]]\n",
      "\n",
      "y1:[[ 1. -1. -1.]\n",
      " [ 1. -1. -1.]\n",
      " [ 1. -1. -1.]]\n",
      "\n",
      "y0:[[ 0.04332771 -0.06018258 -0.87746161]\n",
      " [ 0.95997131 -0.62681657 -0.99999815]\n",
      " [ 0.99909067 -0.88792974 -1.        ]]\n",
      "\n",
      "y1:[[ 1. -1. -1.]\n",
      " [ 1. -1. -1.]\n",
      " [ 1. -1. -1.]]\n",
      "\n",
      "y0:[[ 0.04332771 -0.06018258 -0.87746161]\n",
      " [ 0.95997131 -0.62681657 -0.99999815]\n",
      " [ 0.99909067 -0.88792974 -1.        ]]\n",
      "\n",
      "y1:[[ 1. -1. -1.]\n",
      " [ 1. -1. -1.]\n",
      " [ 1. -1. -1.]]\n",
      "\n",
      "y0:[[ 0.04332771 -0.06018258 -0.87746161]\n",
      " [ 0.95997131 -0.62681657 -0.99999815]\n",
      " [ 0.99909067 -0.88792974 -1.        ]]\n",
      "\n",
      "y1:[[ 1. -1. -1.]\n",
      " [ 1. -1. -1.]\n",
      " [ 1. -1. -1.]]\n",
      "\n",
      "y0:[[ 0.04332771 -0.06018258 -0.87746161]\n",
      " [ 0.95997131 -0.62681657 -0.99999815]\n",
      " [ 0.99909067 -0.88792974 -1.        ]]\n",
      "\n",
      "y1:[[ 1. -1. -1.]\n",
      " [ 1. -1. -1.]\n",
      " [ 1. -1. -1.]]\n",
      "\n",
      "y0:[[ 0.04332771 -0.06018258 -0.87746161]\n",
      " [ 0.95997131 -0.62681657 -0.99999815]\n",
      " [ 0.99909067 -0.88792974 -1.        ]]\n",
      "\n",
      "y1:[[ 1. -1. -1.]\n",
      " [ 1. -1. -1.]\n",
      " [ 1. -1. -1.]]\n",
      "\n",
      "y0:[[ 0.04332771 -0.06018258 -0.87746161]\n",
      " [ 0.95997131 -0.62681657 -0.99999815]\n",
      " [ 0.99909067 -0.88792974 -1.        ]]\n",
      "\n",
      "y1:[[ 1. -1. -1.]\n",
      " [ 1. -1. -1.]\n",
      " [ 1. -1. -1.]]\n",
      "\n",
      "y0:[[ 0.04332771 -0.06018258 -0.87746161]\n",
      " [ 0.95997131 -0.62681657 -0.99999815]\n",
      " [ 0.99909067 -0.88792974 -1.        ]]\n",
      "\n",
      "y1:[[ 1. -1. -1.]\n",
      " [ 1. -1. -1.]\n",
      " [ 1. -1. -1.]]\n",
      "\n",
      "y0:[[ 0.04332771 -0.06018258 -0.87746161]\n",
      " [ 0.95997131 -0.62681657 -0.99999815]\n",
      " [ 0.99909067 -0.88792974 -1.        ]]\n",
      "\n",
      "y1:[[ 1. -1. -1.]\n",
      " [ 1. -1. -1.]\n",
      " [ 1. -1. -1.]]\n",
      "\n",
      "y0:[[ 0.04332771 -0.06018258 -0.87746161]\n",
      " [ 0.95997131 -0.62681657 -0.99999815]\n",
      " [ 0.99909067 -0.88792974 -1.        ]]\n",
      "\n",
      "y1:[[ 1. -1. -1.]\n",
      " [ 1. -1. -1.]\n",
      " [ 1. -1. -1.]]\n",
      "\n",
      "y0:[[ 0.04332771 -0.06018258 -0.87746161]\n",
      " [ 0.95997131 -0.62681657 -0.99999815]\n",
      " [ 0.99909067 -0.88792974 -1.        ]]\n",
      "\n",
      "y1:[[ 1. -1. -1.]\n",
      " [ 1. -1. -1.]\n",
      " [ 1. -1. -1.]]\n",
      "\n",
      "y0:[[ 0.04332771 -0.06018258 -0.87746161]\n",
      " [ 0.95997131 -0.62681657 -0.99999815]\n",
      " [ 0.99909067 -0.88792974 -1.        ]]\n",
      "\n",
      "y1:[[ 1. -1. -1.]\n",
      " [ 1. -1. -1.]\n",
      " [ 1. -1. -1.]]\n",
      "\n",
      "y0:[[ 0.04332771 -0.06018258 -0.87746161]\n",
      " [ 0.95997131 -0.62681657 -0.99999815]\n",
      " [ 0.99909067 -0.88792974 -1.        ]]\n",
      "\n",
      "y1:[[ 1. -1. -1.]\n",
      " [ 1. -1. -1.]\n",
      " [ 1. -1. -1.]]\n",
      "\n",
      "y0:[[ 0.04332771 -0.06018258 -0.87746161]\n",
      " [ 0.95997131 -0.62681657 -0.99999815]\n",
      " [ 0.99909067 -0.88792974 -1.        ]]\n",
      "\n",
      "y1:[[ 1. -1. -1.]\n",
      " [ 1. -1. -1.]\n",
      " [ 1. -1. -1.]]\n",
      "\n",
      "y0:[[ 0.04332771 -0.06018258 -0.87746161]\n",
      " [ 0.95997131 -0.62681657 -0.99999815]\n",
      " [ 0.99909067 -0.88792974 -1.        ]]\n",
      "\n",
      "y1:[[ 1. -1. -1.]\n",
      " [ 1. -1. -1.]\n",
      " [ 1. -1. -1.]]\n",
      "\n",
      "y0:[[ 0.04332771 -0.06018258 -0.87746161]\n",
      " [ 0.95997131 -0.62681657 -0.99999815]\n",
      " [ 0.99909067 -0.88792974 -1.        ]]\n",
      "\n",
      "y1:[[ 1. -1. -1.]\n",
      " [ 1. -1. -1.]\n",
      " [ 1. -1. -1.]]\n",
      "\n",
      "y0:[[ 0.04332771 -0.06018258 -0.87746161]\n",
      " [ 0.95997131 -0.62681657 -0.99999815]\n",
      " [ 0.99909067 -0.88792974 -1.        ]]\n",
      "\n",
      "y1:[[ 1. -1. -1.]\n",
      " [ 1. -1. -1.]\n",
      " [ 1. -1. -1.]]\n",
      "\n",
      "y0:[[ 0.04332771 -0.06018258 -0.87746161]\n",
      " [ 0.95997131 -0.62681657 -0.99999815]\n",
      " [ 0.99909067 -0.88792974 -1.        ]]\n",
      "\n",
      "y1:[[ 1. -1. -1.]\n",
      " [ 1. -1. -1.]\n",
      " [ 1. -1. -1.]]\n",
      "\n",
      "y0:[[ 0.04332771 -0.06018258 -0.87746161]\n",
      " [ 0.95997131 -0.62681657 -0.99999815]\n",
      " [ 0.99909067 -0.88792974 -1.        ]]\n",
      "\n",
      "y1:[[ 1. -1. -1.]\n",
      " [ 1. -1. -1.]\n",
      " [ 1. -1. -1.]]\n",
      "\n",
      "y0:[[ 0.04332771 -0.06018258 -0.87746161]\n",
      " [ 0.95997131 -0.62681657 -0.99999815]\n",
      " [ 0.99909067 -0.88792974 -1.        ]]\n",
      "\n",
      "y1:[[ 1. -1. -1.]\n",
      " [ 1. -1. -1.]\n",
      " [ 1. -1. -1.]]\n",
      "\n",
      "y0:[[ 0.04332771 -0.06018258 -0.87746161]\n",
      " [ 0.95997131 -0.62681657 -0.99999815]\n",
      " [ 0.99909067 -0.88792974 -1.        ]]\n",
      "\n",
      "y1:[[ 1. -1. -1.]\n",
      " [ 1. -1. -1.]\n",
      " [ 1. -1. -1.]]\n",
      "\n",
      "y0:[[ 0.04332771 -0.06018258 -0.87746161]\n",
      " [ 0.95997131 -0.62681657 -0.99999815]\n",
      " [ 0.99909067 -0.88792974 -1.        ]]\n",
      "\n",
      "y1:[[ 1. -1. -1.]\n",
      " [ 1. -1. -1.]\n",
      " [ 1. -1. -1.]]\n",
      "\n",
      "y0:[[ 0.04332771 -0.06018258 -0.87746161]\n",
      " [ 0.95997131 -0.62681657 -0.99999815]\n",
      " [ 0.99909067 -0.88792974 -1.        ]]\n",
      "\n",
      "y1:[[ 1. -1. -1.]\n",
      " [ 1. -1. -1.]\n",
      " [ 1. -1. -1.]]\n",
      "\n",
      "y0:[[ 0.04332771 -0.06018258 -0.87746161]\n",
      " [ 0.95997131 -0.62681657 -0.99999815]\n",
      " [ 0.99909067 -0.88792974 -1.        ]]\n",
      "\n",
      "y1:[[ 1. -1. -1.]\n",
      " [ 1. -1. -1.]\n",
      " [ 1. -1. -1.]]\n",
      "\n",
      "y0:[[ 0.04332771 -0.06018258 -0.87746161]\n",
      " [ 0.95997131 -0.62681657 -0.99999815]\n",
      " [ 0.99909067 -0.88792974 -1.        ]]\n",
      "\n",
      "y1:[[ 1. -1. -1.]\n",
      " [ 1. -1. -1.]\n",
      " [ 1. -1. -1.]]\n",
      "\n",
      "y0:[[ 0.04332771 -0.06018258 -0.87746161]\n",
      " [ 0.95997131 -0.62681657 -0.99999815]\n",
      " [ 0.99909067 -0.88792974 -1.        ]]\n",
      "\n",
      "y1:[[ 1. -1. -1.]\n",
      " [ 1. -1. -1.]\n",
      " [ 1. -1. -1.]]\n",
      "\n",
      "y0:[[ 0.04332771 -0.06018258 -0.87746161]\n",
      " [ 0.95997131 -0.62681657 -0.99999815]\n",
      " [ 0.99909067 -0.88792974 -1.        ]]\n",
      "\n",
      "y1:[[ 1. -1. -1.]\n",
      " [ 1. -1. -1.]\n",
      " [ 1. -1. -1.]]\n",
      "\n",
      "y0:[[ 0.04332771 -0.06018258 -0.87746161]\n",
      " [ 0.95997131 -0.62681657 -0.99999815]\n",
      " [ 0.99909067 -0.88792974 -1.        ]]\n",
      "\n",
      "y1:[[ 1. -1. -1.]\n",
      " [ 1. -1. -1.]\n",
      " [ 1. -1. -1.]]\n",
      "\n",
      "y0:[[ 0.04332771 -0.06018258 -0.87746161]\n",
      " [ 0.95997131 -0.62681657 -0.99999815]\n",
      " [ 0.99909067 -0.88792974 -1.        ]]\n",
      "\n",
      "y1:[[ 1. -1. -1.]\n",
      " [ 1. -1. -1.]\n",
      " [ 1. -1. -1.]]\n",
      "\n",
      "y0:[[ 0.04332771 -0.06018258 -0.87746161]\n",
      " [ 0.95997131 -0.62681657 -0.99999815]\n",
      " [ 0.99909067 -0.88792974 -1.        ]]\n",
      "\n",
      "y1:[[ 1. -1. -1.]\n",
      " [ 1. -1. -1.]\n",
      " [ 1. -1. -1.]]\n",
      "\n",
      "y0:[[ 0.04332771 -0.06018258 -0.87746161]\n",
      " [ 0.95997131 -0.62681657 -0.99999815]\n",
      " [ 0.99909067 -0.88792974 -1.        ]]\n",
      "\n",
      "y1:[[ 1. -1. -1.]\n",
      " [ 1. -1. -1.]\n",
      " [ 1. -1. -1.]]\n",
      "\n",
      "y0:[[ 0.04332771 -0.06018258 -0.87746161]\n",
      " [ 0.95997131 -0.62681657 -0.99999815]\n",
      " [ 0.99909067 -0.88792974 -1.        ]]\n",
      "\n",
      "y1:[[ 1. -1. -1.]\n",
      " [ 1. -1. -1.]\n",
      " [ 1. -1. -1.]]\n",
      "\n",
      "y0:[[ 0.04332771 -0.06018258 -0.87746161]\n",
      " [ 0.95997131 -0.62681657 -0.99999815]\n",
      " [ 0.99909067 -0.88792974 -1.        ]]\n",
      "\n",
      "y1:[[ 1. -1. -1.]\n",
      " [ 1. -1. -1.]\n",
      " [ 1. -1. -1.]]\n",
      "\n",
      "y0:[[ 0.04332771 -0.06018258 -0.87746161]\n",
      " [ 0.95997131 -0.62681657 -0.99999815]\n",
      " [ 0.99909067 -0.88792974 -1.        ]]\n",
      "\n",
      "y1:[[ 1. -1. -1.]\n",
      " [ 1. -1. -1.]\n",
      " [ 1. -1. -1.]]\n",
      "\n",
      "y0:[[ 0.04332771 -0.06018258 -0.87746161]\n",
      " [ 0.95997131 -0.62681657 -0.99999815]\n",
      " [ 0.99909067 -0.88792974 -1.        ]]\n",
      "\n",
      "y1:[[ 1. -1. -1.]\n",
      " [ 1. -1. -1.]\n",
      " [ 1. -1. -1.]]\n",
      "\n",
      "y0:[[ 0.04332771 -0.06018258 -0.87746161]\n",
      " [ 0.95997131 -0.62681657 -0.99999815]\n",
      " [ 0.99909067 -0.88792974 -1.        ]]\n",
      "\n",
      "y1:[[ 1. -1. -1.]\n",
      " [ 1. -1. -1.]\n",
      " [ 1. -1. -1.]]\n",
      "\n",
      "y0:[[ 0.04332771 -0.06018258 -0.87746161]\n",
      " [ 0.95997131 -0.62681657 -0.99999815]\n",
      " [ 0.99909067 -0.88792974 -1.        ]]\n",
      "\n",
      "y1:[[ 1. -1. -1.]\n",
      " [ 1. -1. -1.]\n",
      " [ 1. -1. -1.]]\n",
      "\n",
      "y0:[[ 0.04332771 -0.06018258 -0.87746161]\n",
      " [ 0.95997131 -0.62681657 -0.99999815]\n",
      " [ 0.99909067 -0.88792974 -1.        ]]\n",
      "\n",
      "y1:[[ 1. -1. -1.]\n",
      " [ 1. -1. -1.]\n",
      " [ 1. -1. -1.]]\n",
      "\n",
      "y0:[[ 0.04332771 -0.06018258 -0.87746161]\n",
      " [ 0.95997131 -0.62681657 -0.99999815]\n",
      " [ 0.99909067 -0.88792974 -1.        ]]\n",
      "\n",
      "y1:[[ 1. -1. -1.]\n",
      " [ 1. -1. -1.]\n",
      " [ 1. -1. -1.]]\n",
      "\n",
      "y0:[[ 0.04332771 -0.06018258 -0.87746161]\n",
      " [ 0.95997131 -0.62681657 -0.99999815]\n",
      " [ 0.99909067 -0.88792974 -1.        ]]\n",
      "\n",
      "y1:[[ 1. -1. -1.]\n",
      " [ 1. -1. -1.]\n",
      " [ 1. -1. -1.]]\n",
      "\n",
      "y0:[[ 0.04332771 -0.06018258 -0.87746161]\n",
      " [ 0.95997131 -0.62681657 -0.99999815]\n",
      " [ 0.99909067 -0.88792974 -1.        ]]\n",
      "\n",
      "y1:[[ 1. -1. -1.]\n",
      " [ 1. -1. -1.]\n",
      " [ 1. -1. -1.]]\n",
      "\n",
      "y0:[[ 0.04332771 -0.06018258 -0.87746161]\n",
      " [ 0.95997131 -0.62681657 -0.99999815]\n",
      " [ 0.99909067 -0.88792974 -1.        ]]\n",
      "\n",
      "y1:[[ 1. -1. -1.]\n",
      " [ 1. -1. -1.]\n",
      " [ 1. -1. -1.]]\n",
      "\n",
      "y0:[[ 0.04332771 -0.06018258 -0.87746161]\n",
      " [ 0.95997131 -0.62681657 -0.99999815]\n",
      " [ 0.99909067 -0.88792974 -1.        ]]\n",
      "\n",
      "y1:[[ 1. -1. -1.]\n",
      " [ 1. -1. -1.]\n",
      " [ 1. -1. -1.]]\n",
      "\n",
      "y0:[[ 0.04332771 -0.06018258 -0.87746161]\n",
      " [ 0.95997131 -0.62681657 -0.99999815]\n",
      " [ 0.99909067 -0.88792974 -1.        ]]\n",
      "\n",
      "y1:[[ 1. -1. -1.]\n",
      " [ 1. -1. -1.]\n",
      " [ 1. -1. -1.]]\n",
      "\n",
      "y0:[[ 0.04332771 -0.06018258 -0.87746161]\n",
      " [ 0.95997131 -0.62681657 -0.99999815]\n",
      " [ 0.99909067 -0.88792974 -1.        ]]\n",
      "\n",
      "y1:[[ 1. -1. -1.]\n",
      " [ 1. -1. -1.]\n",
      " [ 1. -1. -1.]]\n",
      "\n",
      "y0:[[ 0.04332771 -0.06018258 -0.87746161]\n",
      " [ 0.95997131 -0.62681657 -0.99999815]\n",
      " [ 0.99909067 -0.88792974 -1.        ]]\n",
      "\n",
      "y1:[[ 1. -1. -1.]\n",
      " [ 1. -1. -1.]\n",
      " [ 1. -1. -1.]]\n",
      "\n",
      "y0:[[ 0.04332771 -0.06018258 -0.87746161]\n",
      " [ 0.95997131 -0.62681657 -0.99999815]\n",
      " [ 0.99909067 -0.88792974 -1.        ]]\n",
      "\n",
      "y1:[[ 1. -1. -1.]\n",
      " [ 1. -1. -1.]\n",
      " [ 1. -1. -1.]]\n",
      "\n",
      "y0:[[ 0.04332771 -0.06018258 -0.87746161]\n",
      " [ 0.95997131 -0.62681657 -0.99999815]\n",
      " [ 0.99909067 -0.88792974 -1.        ]]\n",
      "\n",
      "y1:[[ 1. -1. -1.]\n",
      " [ 1. -1. -1.]\n",
      " [ 1. -1. -1.]]\n",
      "\n",
      "y0:[[ 0.04332771 -0.06018258 -0.87746161]\n",
      " [ 0.95997131 -0.62681657 -0.99999815]\n",
      " [ 0.99909067 -0.88792974 -1.        ]]\n",
      "\n",
      "y1:[[ 1. -1. -1.]\n",
      " [ 1. -1. -1.]\n",
      " [ 1. -1. -1.]]\n",
      "\n",
      "y0:[[ 0.04332771 -0.06018258 -0.87746161]\n",
      " [ 0.95997131 -0.62681657 -0.99999815]\n",
      " [ 0.99909067 -0.88792974 -1.        ]]\n",
      "\n",
      "y1:[[ 1. -1. -1.]\n",
      " [ 1. -1. -1.]\n",
      " [ 1. -1. -1.]]\n",
      "\n",
      "y0:[[ 0.04332771 -0.06018258 -0.87746161]\n",
      " [ 0.95997131 -0.62681657 -0.99999815]\n",
      " [ 0.99909067 -0.88792974 -1.        ]]\n",
      "\n",
      "y1:[[ 1. -1. -1.]\n",
      " [ 1. -1. -1.]\n",
      " [ 1. -1. -1.]]\n",
      "\n",
      "y0:[[ 0.04332771 -0.06018258 -0.87746161]\n",
      " [ 0.95997131 -0.62681657 -0.99999815]\n",
      " [ 0.99909067 -0.88792974 -1.        ]]\n",
      "\n",
      "y1:[[ 1. -1. -1.]\n",
      " [ 1. -1. -1.]\n",
      " [ 1. -1. -1.]]\n",
      "\n",
      "y0:[[ 0.04332771 -0.06018258 -0.87746161]\n",
      " [ 0.95997131 -0.62681657 -0.99999815]\n",
      " [ 0.99909067 -0.88792974 -1.        ]]\n",
      "\n",
      "y1:[[ 1. -1. -1.]\n",
      " [ 1. -1. -1.]\n",
      " [ 1. -1. -1.]]\n",
      "\n",
      "y0:[[ 0.04332771 -0.06018258 -0.87746161]\n",
      " [ 0.95997131 -0.62681657 -0.99999815]\n",
      " [ 0.99909067 -0.88792974 -1.        ]]\n",
      "\n",
      "y1:[[ 1. -1. -1.]\n",
      " [ 1. -1. -1.]\n",
      " [ 1. -1. -1.]]\n",
      "\n",
      "y0:[[ 0.04332771 -0.06018258 -0.87746161]\n",
      " [ 0.95997131 -0.62681657 -0.99999815]\n",
      " [ 0.99909067 -0.88792974 -1.        ]]\n",
      "\n",
      "y1:[[ 1. -1. -1.]\n",
      " [ 1. -1. -1.]\n",
      " [ 1. -1. -1.]]\n",
      "\n",
      "y0:[[ 0.04332771 -0.06018258 -0.87746161]\n",
      " [ 0.95997131 -0.62681657 -0.99999815]\n",
      " [ 0.99909067 -0.88792974 -1.        ]]\n",
      "\n",
      "y1:[[ 1. -1. -1.]\n",
      " [ 1. -1. -1.]\n",
      " [ 1. -1. -1.]]\n",
      "\n",
      "y0:[[ 0.04332771 -0.06018258 -0.87746161]\n",
      " [ 0.95997131 -0.62681657 -0.99999815]\n",
      " [ 0.99909067 -0.88792974 -1.        ]]\n",
      "\n",
      "y1:[[ 1. -1. -1.]\n",
      " [ 1. -1. -1.]\n",
      " [ 1. -1. -1.]]\n",
      "\n",
      "y0:[[ 0.04332771 -0.06018258 -0.87746161]\n",
      " [ 0.95997131 -0.62681657 -0.99999815]\n",
      " [ 0.99909067 -0.88792974 -1.        ]]\n",
      "\n",
      "y1:[[ 1. -1. -1.]\n",
      " [ 1. -1. -1.]\n",
      " [ 1. -1. -1.]]\n",
      "\n",
      "y0:[[ 0.04332771 -0.06018258 -0.87746161]\n",
      " [ 0.95997131 -0.62681657 -0.99999815]\n",
      " [ 0.99909067 -0.88792974 -1.        ]]\n",
      "\n",
      "y1:[[ 1. -1. -1.]\n",
      " [ 1. -1. -1.]\n",
      " [ 1. -1. -1.]]\n",
      "\n",
      "y0:[[ 0.04332771 -0.06018258 -0.87746161]\n",
      " [ 0.95997131 -0.62681657 -0.99999815]\n",
      " [ 0.99909067 -0.88792974 -1.        ]]\n",
      "\n",
      "y1:[[ 1. -1. -1.]\n",
      " [ 1. -1. -1.]\n",
      " [ 1. -1. -1.]]\n",
      "\n",
      "y0:[[ 0.04332771 -0.06018258 -0.87746161]\n",
      " [ 0.95997131 -0.62681657 -0.99999815]\n",
      " [ 0.99909067 -0.88792974 -1.        ]]\n",
      "\n",
      "y1:[[ 1. -1. -1.]\n",
      " [ 1. -1. -1.]\n",
      " [ 1. -1. -1.]]\n",
      "\n",
      "y0:[[ 0.04332771 -0.06018258 -0.87746161]\n",
      " [ 0.95997131 -0.62681657 -0.99999815]\n",
      " [ 0.99909067 -0.88792974 -1.        ]]\n",
      "\n",
      "y1:[[ 1. -1. -1.]\n",
      " [ 1. -1. -1.]\n",
      " [ 1. -1. -1.]]\n",
      "\n",
      "y0:[[ 0.04332771 -0.06018258 -0.87746161]\n",
      " [ 0.95997131 -0.62681657 -0.99999815]\n",
      " [ 0.99909067 -0.88792974 -1.        ]]\n",
      "\n",
      "y1:[[ 1. -1. -1.]\n",
      " [ 1. -1. -1.]\n",
      " [ 1. -1. -1.]]\n",
      "\n"
     ]
    },
    {
     "name": "stdout",
     "output_type": "stream",
     "text": [
      "y0:[[ 0.04332771 -0.06018258 -0.87746161]\n",
      " [ 0.95997131 -0.62681657 -0.99999815]\n",
      " [ 0.99909067 -0.88792974 -1.        ]]\n",
      "\n",
      "y1:[[ 1. -1. -1.]\n",
      " [ 1. -1. -1.]\n",
      " [ 1. -1. -1.]]\n",
      "\n",
      "y0:[[ 0.04332771 -0.06018258 -0.87746161]\n",
      " [ 0.95997131 -0.62681657 -0.99999815]\n",
      " [ 0.99909067 -0.88792974 -1.        ]]\n",
      "\n",
      "y1:[[ 1. -1. -1.]\n",
      " [ 1. -1. -1.]\n",
      " [ 1. -1. -1.]]\n",
      "\n",
      "y0:[[ 0.04332771 -0.06018258 -0.87746161]\n",
      " [ 0.95997131 -0.62681657 -0.99999815]\n",
      " [ 0.99909067 -0.88792974 -1.        ]]\n",
      "\n",
      "y1:[[ 1. -1. -1.]\n",
      " [ 1. -1. -1.]\n",
      " [ 1. -1. -1.]]\n",
      "\n",
      "y0:[[ 0.04332771 -0.06018258 -0.87746161]\n",
      " [ 0.95997131 -0.62681657 -0.99999815]\n",
      " [ 0.99909067 -0.88792974 -1.        ]]\n",
      "\n",
      "y1:[[ 1. -1. -1.]\n",
      " [ 1. -1. -1.]\n",
      " [ 1. -1. -1.]]\n",
      "\n",
      "y0:[[ 0.04332771 -0.06018258 -0.87746161]\n",
      " [ 0.95997131 -0.62681657 -0.99999815]\n",
      " [ 0.99909067 -0.88792974 -1.        ]]\n",
      "\n",
      "y1:[[ 1. -1. -1.]\n",
      " [ 1. -1. -1.]\n",
      " [ 1. -1. -1.]]\n",
      "\n",
      "y0:[[ 0.04332771 -0.06018258 -0.87746161]\n",
      " [ 0.95997131 -0.62681657 -0.99999815]\n",
      " [ 0.99909067 -0.88792974 -1.        ]]\n",
      "\n",
      "y1:[[ 1. -1. -1.]\n",
      " [ 1. -1. -1.]\n",
      " [ 1. -1. -1.]]\n",
      "\n",
      "y0:[[ 0.04332771 -0.06018258 -0.87746161]\n",
      " [ 0.95997131 -0.62681657 -0.99999815]\n",
      " [ 0.99909067 -0.88792974 -1.        ]]\n",
      "\n",
      "y1:[[ 1. -1. -1.]\n",
      " [ 1. -1. -1.]\n",
      " [ 1. -1. -1.]]\n",
      "\n",
      "y0:[[ 0.04332771 -0.06018258 -0.87746161]\n",
      " [ 0.95997131 -0.62681657 -0.99999815]\n",
      " [ 0.99909067 -0.88792974 -1.        ]]\n",
      "\n",
      "y1:[[ 1. -1. -1.]\n",
      " [ 1. -1. -1.]\n",
      " [ 1. -1. -1.]]\n",
      "\n",
      "y0:[[ 0.04332771 -0.06018258 -0.87746161]\n",
      " [ 0.95997131 -0.62681657 -0.99999815]\n",
      " [ 0.99909067 -0.88792974 -1.        ]]\n",
      "\n",
      "y1:[[ 1. -1. -1.]\n",
      " [ 1. -1. -1.]\n",
      " [ 1. -1. -1.]]\n",
      "\n",
      "y0:[[ 0.04332771 -0.06018258 -0.87746161]\n",
      " [ 0.95997131 -0.62681657 -0.99999815]\n",
      " [ 0.99909067 -0.88792974 -1.        ]]\n",
      "\n",
      "y1:[[ 1. -1. -1.]\n",
      " [ 1. -1. -1.]\n",
      " [ 1. -1. -1.]]\n",
      "\n",
      "y0:[[ 0.04332771 -0.06018258 -0.87746161]\n",
      " [ 0.95997131 -0.62681657 -0.99999815]\n",
      " [ 0.99909067 -0.88792974 -1.        ]]\n",
      "\n",
      "y1:[[ 1. -1. -1.]\n",
      " [ 1. -1. -1.]\n",
      " [ 1. -1. -1.]]\n",
      "\n",
      "y0:[[ 0.04332771 -0.06018258 -0.87746161]\n",
      " [ 0.95997131 -0.62681657 -0.99999815]\n",
      " [ 0.99909067 -0.88792974 -1.        ]]\n",
      "\n",
      "y1:[[ 1. -1. -1.]\n",
      " [ 1. -1. -1.]\n",
      " [ 1. -1. -1.]]\n",
      "\n",
      "y0:[[ 0.04332771 -0.06018258 -0.87746161]\n",
      " [ 0.95997131 -0.62681657 -0.99999815]\n",
      " [ 0.99909067 -0.88792974 -1.        ]]\n",
      "\n",
      "y1:[[ 1. -1. -1.]\n",
      " [ 1. -1. -1.]\n",
      " [ 1. -1. -1.]]\n",
      "\n",
      "y0:[[ 0.04332771 -0.06018258 -0.87746161]\n",
      " [ 0.95997131 -0.62681657 -0.99999815]\n",
      " [ 0.99909067 -0.88792974 -1.        ]]\n",
      "\n",
      "y1:[[ 1. -1. -1.]\n",
      " [ 1. -1. -1.]\n",
      " [ 1. -1. -1.]]\n",
      "\n",
      "y0:[[ 0.04332771 -0.06018258 -0.87746161]\n",
      " [ 0.95997131 -0.62681657 -0.99999815]\n",
      " [ 0.99909067 -0.88792974 -1.        ]]\n",
      "\n",
      "y1:[[ 1. -1. -1.]\n",
      " [ 1. -1. -1.]\n",
      " [ 1. -1. -1.]]\n",
      "\n",
      "y0:[[ 0.04332771 -0.06018258 -0.87746161]\n",
      " [ 0.95997131 -0.62681657 -0.99999815]\n",
      " [ 0.99909067 -0.88792974 -1.        ]]\n",
      "\n",
      "y1:[[ 1. -1. -1.]\n",
      " [ 1. -1. -1.]\n",
      " [ 1. -1. -1.]]\n",
      "\n",
      "y0:[[ 0.04332771 -0.06018258 -0.87746161]\n",
      " [ 0.95997131 -0.62681657 -0.99999815]\n",
      " [ 0.99909067 -0.88792974 -1.        ]]\n",
      "\n",
      "y1:[[ 1. -1. -1.]\n",
      " [ 1. -1. -1.]\n",
      " [ 1. -1. -1.]]\n",
      "\n",
      "y0:[[ 0.04332771 -0.06018258 -0.87746161]\n",
      " [ 0.95997131 -0.62681657 -0.99999815]\n",
      " [ 0.99909067 -0.88792974 -1.        ]]\n",
      "\n",
      "y1:[[ 1. -1. -1.]\n",
      " [ 1. -1. -1.]\n",
      " [ 1. -1. -1.]]\n",
      "\n",
      "y0:[[ 0.04332771 -0.06018258 -0.87746161]\n",
      " [ 0.95997131 -0.62681657 -0.99999815]\n",
      " [ 0.99909067 -0.88792974 -1.        ]]\n",
      "\n",
      "y1:[[ 1. -1. -1.]\n",
      " [ 1. -1. -1.]\n",
      " [ 1. -1. -1.]]\n",
      "\n",
      "y0:[[ 0.04332771 -0.06018258 -0.87746161]\n",
      " [ 0.95997131 -0.62681657 -0.99999815]\n",
      " [ 0.99909067 -0.88792974 -1.        ]]\n",
      "\n",
      "y1:[[ 1. -1. -1.]\n",
      " [ 1. -1. -1.]\n",
      " [ 1. -1. -1.]]\n",
      "\n",
      "y0:[[ 0.04332771 -0.06018258 -0.87746161]\n",
      " [ 0.95997131 -0.62681657 -0.99999815]\n",
      " [ 0.99909067 -0.88792974 -1.        ]]\n",
      "\n",
      "y1:[[ 1. -1. -1.]\n",
      " [ 1. -1. -1.]\n",
      " [ 1. -1. -1.]]\n",
      "\n",
      "y0:[[ 0.04332771 -0.06018258 -0.87746161]\n",
      " [ 0.95997131 -0.62681657 -0.99999815]\n",
      " [ 0.99909067 -0.88792974 -1.        ]]\n",
      "\n",
      "y1:[[ 1. -1. -1.]\n",
      " [ 1. -1. -1.]\n",
      " [ 1. -1. -1.]]\n",
      "\n",
      "y0:[[ 0.04332771 -0.06018258 -0.87746161]\n",
      " [ 0.95997131 -0.62681657 -0.99999815]\n",
      " [ 0.99909067 -0.88792974 -1.        ]]\n",
      "\n",
      "y1:[[ 1. -1. -1.]\n",
      " [ 1. -1. -1.]\n",
      " [ 1. -1. -1.]]\n",
      "\n",
      "y0:[[ 0.04332771 -0.06018258 -0.87746161]\n",
      " [ 0.95997131 -0.62681657 -0.99999815]\n",
      " [ 0.99909067 -0.88792974 -1.        ]]\n",
      "\n",
      "y1:[[ 1. -1. -1.]\n",
      " [ 1. -1. -1.]\n",
      " [ 1. -1. -1.]]\n",
      "\n",
      "y0:[[ 0.04332771 -0.06018258 -0.87746161]\n",
      " [ 0.95997131 -0.62681657 -0.99999815]\n",
      " [ 0.99909067 -0.88792974 -1.        ]]\n",
      "\n",
      "y1:[[ 1. -1. -1.]\n",
      " [ 1. -1. -1.]\n",
      " [ 1. -1. -1.]]\n",
      "\n",
      "y0:[[ 0.04332771 -0.06018258 -0.87746161]\n",
      " [ 0.95997131 -0.62681657 -0.99999815]\n",
      " [ 0.99909067 -0.88792974 -1.        ]]\n",
      "\n",
      "y1:[[ 1. -1. -1.]\n",
      " [ 1. -1. -1.]\n",
      " [ 1. -1. -1.]]\n",
      "\n",
      "y0:[[ 0.04332771 -0.06018258 -0.87746161]\n",
      " [ 0.95997131 -0.62681657 -0.99999815]\n",
      " [ 0.99909067 -0.88792974 -1.        ]]\n",
      "\n",
      "y1:[[ 1. -1. -1.]\n",
      " [ 1. -1. -1.]\n",
      " [ 1. -1. -1.]]\n",
      "\n",
      "y0:[[ 0.04332771 -0.06018258 -0.87746161]\n",
      " [ 0.95997131 -0.62681657 -0.99999815]\n",
      " [ 0.99909067 -0.88792974 -1.        ]]\n",
      "\n",
      "y1:[[ 1. -1. -1.]\n",
      " [ 1. -1. -1.]\n",
      " [ 1. -1. -1.]]\n",
      "\n"
     ]
    }
   ],
   "source": [
    "with tf.Session() as sess:\n",
    "    sess.run(init)\n",
    "    for i in range(100):\n",
    "        y0_output_vals,y1_output_vals = sess.run([y0,y1],\n",
    "                                             feed_dict = {x0:x0_batch,x1:x1_batch})\n",
    "        print('y0:'+str(y0_output_vals)+'\\n')\n",
    "        print('y1:'+str(y1_output_vals)+'\\n')"
   ]
  },
  {
   "cell_type": "code",
   "execution_count": 8,
   "metadata": {},
   "outputs": [
    {
     "data": {
      "text/plain": [
       "array([[ 0.04332771, -0.06018258, -0.87746161],\n",
       "       [ 0.95997131, -0.62681657, -0.99999815],\n",
       "       [ 0.99909067, -0.88792974, -1.        ]], dtype=float32)"
      ]
     },
     "execution_count": 8,
     "metadata": {},
     "output_type": "execute_result"
    }
   ],
   "source": [
    " y0_output_vals"
   ]
  },
  {
   "cell_type": "code",
   "execution_count": 9,
   "metadata": {},
   "outputs": [
    {
     "data": {
      "text/plain": [
       "array([[ 1., -1., -1.],\n",
       "       [ 1., -1., -1.],\n",
       "       [ 1., -1., -1.]], dtype=float32)"
      ]
     },
     "execution_count": 9,
     "metadata": {},
     "output_type": "execute_result"
    }
   ],
   "source": [
    "y1_output_vals"
   ]
  },
  {
   "cell_type": "markdown",
   "metadata": {},
   "source": [
    "# 3.RNN with Tensorflow API\n"
   ]
  },
  {
   "cell_type": "code",
   "execution_count": 10,
   "metadata": {},
   "outputs": [],
   "source": [
    "class TimeSeriesData():\n",
    "    def __init__(self,num_points,xmin,xmax):\n",
    "        self.xmin = xmin\n",
    "        self.xmax = xmax\n",
    "        self.num_points = num_points\n",
    "        self.resolution = (xmax-xmin)/num_points\n",
    "        self.x_data = np.linspace(xmin,xmax,num_points)\n",
    "        self.y_true = np.sin(self.x_data)\n",
    "    def ret_true(self,x_series):\n",
    "        return np.sin(x_series)\n",
    "    def next_batch(self,batch_size,steps,return_batch_ts = False):\n",
    "        # Grab a random starting point for each batch\n",
    "        rand_start = np.random.rand(1,batch_size)\n",
    "        # Convert to be on time series\n",
    "        ts_start = rand_start*(self.xmax - self.xmin - (steps*self.resolution))\n",
    "        # Create batch time series on the x axis\n",
    "        batch_ts = ts_start + np.arange(0.0,steps+1)*self.resolution\n",
    "        # Create the Y data for time series\n",
    "        y_batch = np.sin(batch_ts)\n",
    "        # Formatting for RNN\n",
    "        if return_batch_ts:\n",
    "            return y_batch[:,:-1].reshape(-1,steps,1),y_batch[:,1:].reshape(-1,steps,1),batch_ts\n",
    "        else:\n",
    "            return y_batch[:,:-1].reshape(-1,steps,1),y_batch[:,1:].reshape(-1,steps,1)"
   ]
  },
  {
   "cell_type": "code",
   "execution_count": 11,
   "metadata": {
    "collapsed": true
   },
   "outputs": [],
   "source": [
    "ts_data = TimeSeriesData(250,0,10)"
   ]
  },
  {
   "cell_type": "code",
   "execution_count": 12,
   "metadata": {},
   "outputs": [
    {
     "data": {
      "text/plain": [
       "[<matplotlib.lines.Line2D at 0x110ab5d30>]"
      ]
     },
     "execution_count": 12,
     "metadata": {},
     "output_type": "execute_result"
    },
    {
     "data": {
      "image/png": "[encoded data removed]",
      "text/plain": [
       "<matplotlib.figure.Figure at 0x110a3dcf8>"
      ]
     },
     "metadata": {},
     "output_type": "display_data"
    }
   ],
   "source": [
    "plt.plot(ts_data.x_data,ts_data.y_true)"
   ]
  },
  {
   "cell_type": "code",
   "execution_count": 13,
   "metadata": {},
   "outputs": [],
   "source": [
    "num_time_steps = 30\n",
    "y1,y2,ts = ts_data.next_batch(1,num_time_steps,True)"
   ]
  },
  {
   "cell_type": "code",
   "execution_count": 14,
   "metadata": {},
   "outputs": [
    {
     "data": {
      "text/plain": [
       "(1, 31)"
      ]
     },
     "execution_count": 14,
     "metadata": {},
     "output_type": "execute_result"
    }
   ],
   "source": [
    "ts.shape"
   ]
  },
  {
   "cell_type": "code",
   "execution_count": 15,
   "metadata": {},
   "outputs": [
    {
     "data": {
      "text/plain": [
       "<function ndarray.flatten>"
      ]
     },
     "execution_count": 15,
     "metadata": {},
     "output_type": "execute_result"
    }
   ],
   "source": [
    "ts.flatten"
   ]
  },
  {
   "cell_type": "code",
   "execution_count": 16,
   "metadata": {},
   "outputs": [
    {
     "data": {
      "text/plain": [
       "array([[ 6.35377759,  6.39377759,  6.43377759,  6.47377759,  6.51377759,\n",
       "         6.55377759,  6.59377759,  6.63377759,  6.67377759,  6.71377759,\n",
       "         6.75377759,  6.79377759,  6.83377759,  6.87377759,  6.91377759,\n",
       "         6.95377759,  6.99377759,  7.03377759,  7.07377759,  7.11377759,\n",
       "         7.15377759,  7.19377759,  7.23377759,  7.27377759,  7.31377759,\n",
       "         7.35377759,  7.39377759,  7.43377759,  7.47377759,  7.51377759,\n",
       "         7.55377759]])"
      ]
     },
     "execution_count": 16,
     "metadata": {},
     "output_type": "execute_result"
    }
   ],
   "source": [
    "ts"
   ]
  },
  {
   "cell_type": "code",
   "execution_count": 17,
   "metadata": {},
   "outputs": [
    {
     "data": {
      "text/plain": [
       "(1, 31)"
      ]
     },
     "execution_count": 17,
     "metadata": {},
     "output_type": "execute_result"
    }
   ],
   "source": [
    "ts.shape"
   ]
  },
  {
   "cell_type": "code",
   "execution_count": 18,
   "metadata": {},
   "outputs": [
    {
     "data": {
      "text/plain": [
       "[<matplotlib.lines.Line2D at 0x110b26b38>]"
      ]
     },
     "execution_count": 18,
     "metadata": {},
     "output_type": "execute_result"
    },
    {
     "data": {
      "image/png": "[encoded data removed]",
      "text/plain": [
       "<matplotlib.figure.Figure at 0x110a3d9e8>"
      ]
     },
     "metadata": {},
     "output_type": "display_data"
    }
   ],
   "source": [
    "plt.plot(ts.flatten()[1:],y2.flatten(),'*')"
   ]
  },
  {
   "cell_type": "code",
   "execution_count": 19,
   "metadata": {},
   "outputs": [
    {
     "data": {
      "text/plain": [
       "<matplotlib.legend.Legend at 0x110b3ec50>"
      ]
     },
     "execution_count": 19,
     "metadata": {},
     "output_type": "execute_result"
    },
    {
     "data": {
      "image/png": "[encoded data removed]",
      "text/plain": [
       "<matplotlib.figure.Figure at 0x110b3ec88>"
      ]
     },
     "metadata": {},
     "output_type": "display_data"
    }
   ],
   "source": [
    "plt.plot(ts_data.x_data,ts_data.y_true,label = 'Sin(t)')\n",
    "plt.legend()"
   ]
  },
  {
   "cell_type": "code",
   "execution_count": 20,
   "metadata": {},
   "outputs": [
    {
     "data": {
      "image/png": "[encoded data removed]",
      "text/plain": [
       "<matplotlib.figure.Figure at 0x110dac128>"
      ]
     },
     "metadata": {},
     "output_type": "display_data"
    }
   ],
   "source": [
    "plt.plot(ts_data.x_data,ts_data.y_true,label = 'Sin(t)')\n",
    "plt.plot(ts.flatten()[1:],y2.flatten(),'*',label = 'Single Traning Instance')\n",
    "plt.legend()\n",
    "plt.tight_layout()"
   ]
  },
  {
   "cell_type": "code",
   "execution_count": 21,
   "metadata": {
    "collapsed": true
   },
   "outputs": [],
   "source": [
    "# training data\n",
    "train_inst = np.linspace(5,5+ts_data.resolution*(num_time_steps+1),num_time_steps+1)"
   ]
  },
  {
   "cell_type": "code",
   "execution_count": 22,
   "metadata": {},
   "outputs": [
    {
     "data": {
      "text/plain": [
       "array([ 5.        ,  5.04133333,  5.08266667,  5.124     ,  5.16533333,\n",
       "        5.20666667,  5.248     ,  5.28933333,  5.33066667,  5.372     ,\n",
       "        5.41333333,  5.45466667,  5.496     ,  5.53733333,  5.57866667,\n",
       "        5.62      ,  5.66133333,  5.70266667,  5.744     ,  5.78533333,\n",
       "        5.82666667,  5.868     ,  5.90933333,  5.95066667,  5.992     ,\n",
       "        6.03333333,  6.07466667,  6.116     ,  6.15733333,  6.19866667,\n",
       "        6.24      ])"
      ]
     },
     "execution_count": 22,
     "metadata": {},
     "output_type": "execute_result"
    }
   ],
   "source": [
    "train_inst"
   ]
  },
  {
   "cell_type": "code",
   "execution_count": 23,
   "metadata": {},
   "outputs": [
    {
     "data": {
      "text/plain": [
       "<matplotlib.legend.Legend at 0x110f44668>"
      ]
     },
     "execution_count": 23,
     "metadata": {},
     "output_type": "execute_result"
    },
    {
     "data": {
      "image/png": "[encoded data removed]",
      "text/plain": [
       "<matplotlib.figure.Figure at 0x110d0d3c8>"
      ]
     },
     "metadata": {},
     "output_type": "display_data"
    }
   ],
   "source": [
    "plt.title('Traning Instance')\n",
    "plt.plot(train_inst[:-1],ts_data.ret_true(train_inst[:-1]),'bo',markersize=15,alpha=0.5,label = 'Instance')\n",
    "plt.legend()"
   ]
  },
  {
   "cell_type": "code",
   "execution_count": 24,
   "metadata": {},
   "outputs": [
    {
     "data": {
      "text/plain": [
       "<matplotlib.legend.Legend at 0x11108b2e8>"
      ]
     },
     "execution_count": 24,
     "metadata": {},
     "output_type": "execute_result"
    },
    {
     "data": {
      "image/png": "[encoded data removed]",
      "text/plain": [
       "<matplotlib.figure.Figure at 0x110fbeeb8>"
      ]
     },
     "metadata": {},
     "output_type": "display_data"
    }
   ],
   "source": [
    "plt.title('Traning Instance')\n",
    "plt.plot(train_inst[:-1],ts_data.ret_true(train_inst[:-1]),'bo',markersize=15,alpha=0.5,label = 'Instance')\n",
    "plt.plot(train_inst[1:],ts_data.ret_true(train_inst[1:]),'ko',markersize = 7,label = 'Target')\n",
    "plt.legend()"
   ]
  },
  {
   "cell_type": "markdown",
   "metadata": {},
   "source": [
    "## Create the Model"
   ]
  },
  {
   "cell_type": "code",
   "execution_count": 25,
   "metadata": {
    "collapsed": true
   },
   "outputs": [],
   "source": [
    "tf.reset_default_graph()"
   ]
  },
  {
   "cell_type": "code",
   "execution_count": 40,
   "metadata": {
    "collapsed": true
   },
   "outputs": [],
   "source": [
    "num_input = 1\n",
    "num_neurons = 100\n",
    "num_outputs = 1\n",
    "learning_rate = 0.0001\n",
    "num_train_iterations = 2000\n",
    "batch_size = 1"
   ]
  },
  {
   "cell_type": "code",
   "execution_count": 27,
   "metadata": {
    "collapsed": true
   },
   "outputs": [],
   "source": [
    "# placeholder\n",
    "X = tf.placeholder(tf.float32,[None,num_time_steps,num_inputs])\n",
    "y = tf.placeholder(tf.float32,[None,num_time_steps,num_outputs])"
   ]
  },
  {
   "cell_type": "code",
   "execution_count": null,
   "metadata": {
    "collapsed": true
   },
   "outputs": [],
   "source": []
  },
  {
   "cell_type": "code",
   "execution_count": null,
   "metadata": {
    "collapsed": true
   },
   "outputs": [],
   "source": []
  },
  {
   "cell_type": "code",
   "execution_count": null,
   "metadata": {
    "collapsed": true
   },
   "outputs": [],
   "source": []
  },
  {
   "cell_type": "code",
   "execution_count": null,
   "metadata": {},
   "outputs": [],
   "source": []
  },
  {
   "cell_type": "code",
   "execution_count": null,
   "metadata": {},
   "outputs": [],
   "source": []
  },
  {
   "cell_type": "code",
   "execution_count": null,
   "metadata": {
    "collapsed": true
   },
   "outputs": [],
   "source": []
  }
 ],
 "metadata": {
  "kernelspec": {
   "display_name": "Python 3",
   "language": "python",
   "name": "python3"
  },
  "language_info": {
   "codemirror_mode": {
    "name": "ipython",
    "version": 3
   },
   "file_extension": ".py",
   "mimetype": "text/x-python",
   "name": "python",
   "nbconvert_exporter": "python",
   "pygments_lexer": "ipython3",
   "version": "3.6.1"
  }
 },
 "nbformat": 4,
 "nbformat_minor": 2
}
